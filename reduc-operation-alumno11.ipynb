{
 "cells": [
  {
   "cell_type": "markdown",
   "id": "7ac365f4",
   "metadata": {},
   "source": [
    "### Reduction operation: the sum of the numbers in the range [0, a)"
   ]
  },
  {
   "cell_type": "code",
   "execution_count": 20,
   "id": "d2ac06f0",
   "metadata": {},
   "outputs": [
    {
     "ename": "ValueError",
     "evalue": "invalid literal for int() with base 10: '-f'",
     "output_type": "error",
     "traceback": [
      "\u001b[0;31m---------------------------------------------------------------------------\u001b[0m",
      "\u001b[0;31mValueError\u001b[0m                                Traceback (most recent call last)",
      "Cell \u001b[0;32mIn[20], line 5\u001b[0m\n\u001b[1;32m      2\u001b[0m \u001b[38;5;28;01mimport\u001b[39;00m \u001b[38;5;21;01msys\u001b[39;00m\n\u001b[1;32m      4\u001b[0m \u001b[38;5;28;01mif\u001b[39;00m \u001b[38;5;28mlen\u001b[39m(sys\u001b[38;5;241m.\u001b[39margv)\u001b[38;5;241m>\u001b[39m\u001b[38;5;241m1\u001b[39m:       \u001b[38;5;66;03m#si el argumento que le pase por consola es mayor de 1 pues lo sumo, no tiene sentido sumar 1+0 pero si(si le pasamos 2)sumar 0+1+2\u001b[39;00m\n\u001b[0;32m----> 5\u001b[0m     value\u001b[38;5;241m=\u001b[39m\u001b[38;5;28;43mint\u001b[39;49m\u001b[43m(\u001b[49m\u001b[43msys\u001b[49m\u001b[38;5;241;43m.\u001b[39;49m\u001b[43margv\u001b[49m\u001b[43m[\u001b[49m\u001b[38;5;241;43m1\u001b[39;49m\u001b[43m]\u001b[49m\u001b[43m)\u001b[49m\u001b[38;5;66;03m#dado que solo vamos a coger un argumento para editar value decimos que es el [1 ]\u001b[39;00m\n\u001b[1;32m      6\u001b[0m \u001b[38;5;66;03m#si hubiera que editar algo mas de nuestro codigo ese parametro seria[2]\u001b[39;00m\n\u001b[1;32m      7\u001b[0m \u001b[38;5;28;01melse\u001b[39;00m:\n\u001b[1;32m      8\u001b[0m     value\u001b[38;5;241m=\u001b[39m\u001b[38;5;241m1000000\u001b[39m\n",
      "\u001b[0;31mValueError\u001b[0m: invalid literal for int() with base 10: '-f'"
     ]
    }
   ],
   "source": [
    "import time\n",
    "import sys\n",
    "from numba import njit\n",
    "import numpy as np\n",
    "\n",
    "if len(sys.argv)>1:       #si el argumento que le pase por consola es mayor de 1 pues lo sumo, no tiene sentido sumar 1+0 pero si(si le pasamos 2)sumar 0+1+2\n",
    "    value=int(sys.argv[1])#dado que solo vamos a coger un argumento para editar value decimos que es el [1 ]\n",
    "#si hubiera que editar algo mas de nuestro codigo ese parametro seria[2]\n",
    "else:\n",
    "    value=1000000\n",
    "\n",
    "def reduc_operation(a):\n",
    "    \"\"\"Compute the sum of the numbers in the range [0, a).\"\"\"\n",
    "    x = 0\n",
    "    for i in range(a):\n",
    "        x += i\n",
    "    return x\n",
    "\n",
    "# Secuencial\n",
    "\n",
    "value = 1000000\n",
    "\n",
    "initialTime = time.time()\n",
    "suma = reduc_operation(value)\n",
    "finalTime = time.time()\n",
    "\n",
    "print(\"Time taken by reduction operation:\", (finalTime - initialTime), \"seconds\")\n",
    "\n",
    "# Utilizando las operaciones mágicas de ipython\n",
    "%timeit -r 2 reduc_operation(value)\n",
    "\n",
    "print(f\"\\n \\t Computing the sum of numbers in the range [0, value): {suma}\\n\")"
   ]
  },
  {
   "cell_type": "markdown",
   "id": "947025da",
   "metadata": {},
   "source": [
    "En la siguiente celda de código del notebook3 vamos a utilizar el tipo de datos de listas para\n",
    "realizar dicha operación de reducción. Para ello, crea una lista de Python con la función range queontenga 106\n",
    "elementos. Una vez creada, calcula el tiempo que tardas4\n",
    "en sumar todos los elementosde la lista de 2 formas diferentes: \n",
    "#a) Usando un bucle for similar al código ya mostrado en la celda anterior para ir sumando al resultado total elemento a elemento de la lista, \n",
    "#b) usando la funciónsum que tienen las listas. Como verás, hay una diferencia importante"
   ]
  },
  {
   "cell_type": "code",
   "execution_count": 6,
   "id": "7147f7b9",
   "metadata": {},
   "outputs": [
    {
     "name": "stdout",
     "output_type": "stream",
     "text": [
      "El tiempo tomado con listas y bucles es: 0.5404081344604492segundos\n",
      "El tiempo tomado con listas y funcion sum es: 0.03179335594177246segundos\n"
     ]
    }
   ],
   "source": [
    "import time\n",
    "#Usando un bucle for similar al código ya mostrado en la celda anterior para ir sumando al resultado total elemento a elemento de la lista\n",
    "value=list(range(0,1000000))\n",
    "start_time=time.time()\n",
    "resultado=0\n",
    "for i in value:\n",
    "    resultado +=i\n",
    "end_time=time.time()\n",
    "diferencia=end_time-start_time\n",
    "print(f\"El tiempo tomado con listas y bucles es: {diferencia}segundos\")\n",
    "\n",
    "#Usando funcion sum que tienen listas\n",
    "start_time=time.time()\n",
    "sum(value)\n",
    "end_time=time.time()\n",
    "diferencia=end_time-start_time\n",
    "print(f\"El tiempo tomado con listas y funcion sum es: {diferencia}segundos\")"
   ]
  },
  {
   "cell_type": "markdown",
   "id": "0b3e41f3",
   "metadata": {},
   "source": [
    "b) En la segunda celda de código vamos a utilizar el tipo de datos array que nos proporciona el paquete\n",
    "numpy. En primer lugar, pasa la lista creada en la celda anterior a un array de numpy. Y al igual que\n",
    "antes, calcula el tiempo que tardas en sumar todos los elementos del array de 2 formas diferentes:\n",
    "a) Usando un bucle for para ir sumando al resultado total elemento a elemento del array, y b)\n",
    "usando la función sum que tiene el paquete numpy para los arrays. Como verás, hay una diferencia\n",
    "importante, y también con respecto al manejo de estos datos usando listas.\n"
   ]
  },
  {
   "cell_type": "code",
   "execution_count": 17,
   "id": "677ed3cf",
   "metadata": {},
   "outputs": [
    {
     "name": "stdout",
     "output_type": "stream",
     "text": [
      "El tiempo con for y numpy array: 1.0051016807556152segundos\n",
      "El tiempo con sum() numpy array: 0.0018012523651123047segundos\n"
     ]
    }
   ],
   "source": [
    "import time\n",
    "\n",
    "value=list(range(0,1000000))\n",
    "value_numpy=np.array(value)\n",
    "#sumamos todos los elementos del array usando un bucle for\n",
    "start_time=time.time()\n",
    "resultado=0\n",
    "for i in value_numpy:\n",
    "    resultado+=i\n",
    "end_time=time.time()\n",
    "diferencia=end_time-start_time\n",
    "print(f\"El tiempo con for y numpy array: {diferencia}segundos\")\n",
    "\n",
    "#sumamos usando la funcion sum de numpy\n",
    "start_time=time.time()\n",
    "resultado=np.sum(value_numpy)\n",
    "end_time=time.time()\n",
    "diferencia=end_time-start_time\n",
    "print(f\"El tiempo con sum() numpy array: {diferencia}segundos\")"
   ]
  },
  {
   "cell_type": "markdown",
   "id": "684596a6",
   "metadata": {},
   "source": [
    "c) Crea una nueva celda de texto debajo de la última celda de código para explicar los resultados\n",
    "obtenidos por los 3 procedimientos (código original, lists y numpy).\n",
    "\n",
    "En primer lugar destacar que la solución más intuitiva de sumar números con un for, los cuales esten presentes dentro de una lista, no es la más eficiente. \n",
    "Cuando utilizamos funciones creadas por nosotros mismos como es el caso del código original, el tiempo baja considerablemente de 0.54 a 0.26754331588745117. Todo ello indica que aunque usemos bucles es mucho más óptimo controlarlos dentro de una función. \n",
    "Por otra parte crear arrays con numpy, a priori es una buena solución, pero cuando usamos un bucle para iterar los elementos del array los tiempos superan a los del bucle for con listas, mostrando que usar for con numpy no es muy adecuado a niveles de optimización.\n",
    "\n",
    "Finalmente, el ganador indiscutible que mejora el tiempo tomado respecto al código original unas 150 veces. Por tanto, es muy conveniente el uso de funciones contenidas en la libreria numpy para realizar operaciones con array y optimizar tiempos de cómputo."
   ]
  },
  {
   "cell_type": "markdown",
   "id": "7f1c7ed1",
   "metadata": {},
   "source": [
    "3.3. Python HPC: Numba con Jupyter notebook y uso de colas\n",
    "a) Continuando con el notebook anterior, ahora vamos a usar también el paquete numba para acelerar\n",
    "el tiempo de ejecución. Para ello, en la siguiente celda de código copia la celda que usaste con el\n",
    "paquete numpy, y añade a cada función el decorador @njit para que ofrezca un tiempo de ejecución\n",
    "menor. Como verás, hay una diferencia importante, y también con respecto a los tiempos de las\n",
    "celdas anteriores\n",
    "PROLOGO: njit segun he observado solo se aplica en funciones por lo que tendremos que retocar el codigo anterior y definir funciones para ambos casos"
   ]
  },
  {
   "cell_type": "code",
   "execution_count": 17,
   "id": "b0242cd5",
   "metadata": {},
   "outputs": [
    {
     "name": "stdout",
     "output_type": "stream",
     "text": [
      "El tiempo con for y numpy array: 0.4989778995513916segundos\n",
      "El tiempo con sum() numpy array: 0.4387533664703369segundos\n"
     ]
    }
   ],
   "source": [
    "import time\n",
    "value=list(range(0,1000000))\n",
    "value_numpy=np.array(value)\n",
    "#sumamos todos los elementos del array usando un bucle for\n",
    "@njit\n",
    "def usofor(array):\n",
    "    resultado=0\n",
    "    for i in array:\n",
    "        resultado+=i\n",
    "    return resultado\n",
    "@njit\n",
    "def usosum(array):\n",
    "    return np.sum(array)\n",
    "    \n",
    "    \n",
    "start_time=time.time()\n",
    "resultado=usofor(value_numpy)\n",
    "end_time=time.time()\n",
    "diferencia=end_time-start_time\n",
    "print(f\"El tiempo con for y numpy array @njit: {diferencia}segundos\")\n",
    "\n",
    "#sumamos usando la funcion sum de numpy\n",
    "start_time=time.time()\n",
    "\n",
    "resultado=usosum(value_numpy)\n",
    "end_time=time.time()\n",
    "diferencia=end_time-start_time\n",
    "print(f\"El tiempo con sum() numpy array @njit: {diferencia}segundos\")"
   ]
  },
  {
   "cell_type": "markdown",
   "id": "b32ed8b9",
   "metadata": {},
   "source": [
    "En primer lugar observamos que los tiempos han ascendido considerablemente en ambos supuestos. Todo parece indicar que existe conflicto entre la optimización o procesamiento de numpy vs la compilación previa que realiza numba con las funciones seleccionadas. He buscado información sobre este conflicto y puedo decir:\n",
    "Numba no puede optimizar funciones internas que posea numpy dado que es otra libreria distinta y pese que la carga para compilarla y optimizarla su interacción de carga genera overhead y vemos un declive en el tiempo de optimización, cada vez que usemos una función que este etiquetada por @njit.\n",
    "\n"
   ]
  }
 ],
 "metadata": {
  "kernelspec": {
   "display_name": "Python 3 (ipykernel)",
   "language": "python",
   "name": "python3"
  },
  "language_info": {
   "codemirror_mode": {
    "name": "ipython",
    "version": 3
   },
   "file_extension": ".py",
   "mimetype": "text/x-python",
   "name": "python",
   "nbconvert_exporter": "python",
   "pygments_lexer": "ipython3",
   "version": "3.10.9"
  }
 },
 "nbformat": 4,
 "nbformat_minor": 5
}

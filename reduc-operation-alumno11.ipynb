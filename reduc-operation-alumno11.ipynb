{
 "cells": [
  {
   "cell_type": "markdown",
   "id": "f942d288-be01-42cd-9b84-83529c6769be",
   "metadata": {},
   "source": [
    "### Reduction operation: the sum of the numbers in the range [0, a)"
   ]
  },
  {
   "cell_type": "code",
   "execution_count": 1,
   "id": "496946fa-2a28-4c1d-8a6a-2ee0b8fd8ced",
   "metadata": {},
   "outputs": [
    {
     "name": "stdout",
     "output_type": "stream",
     "text": [
      "Time taken by reduction operation: 0.26754331588745117 seconds\n",
      "260 ms ± 262 µs per loop (mean ± std. dev. of 2 runs, 1 loop each)\n",
      "\n",
      " \t Computing the sum of numbers in the range [0, value): 499999500000\n",
      "\n"
     ]
    }
   ],
   "source": [
    "import time\n",
    "\n",
    "def reduc_operation(a):\n",
    "    \"\"\"Compute the sum of the numbers in the range [0, a).\"\"\"\n",
    "    x = 0\n",
    "    for i in range(a):\n",
    "        x += i\n",
    "    return x\n",
    "\n",
    "# Secuencial\n",
    "\n",
    "value = 1000000\n",
    "\n",
    "initialTime = time.time()\n",
    "suma = reduc_operation(value)\n",
    "finalTime = time.time()\n",
    "\n",
    "print(\"Time taken by reduction operation:\", (finalTime - initialTime), \"seconds\")\n",
    "\n",
    "# Utilizando las operaciones mágicas de ipython\n",
    "%timeit -r 2 reduc_operation(value)\n",
    "\n",
    "print(f\"\\n \\t Computing the sum of numbers in the range [0, value): {suma}\\n\")"
   ]
  },
  {
   "cell_type": "markdown",
   "id": "85c59d52-f338-4181-bd05-287f50749496",
   "metadata": {},
   "source": [
    "En la siguiente celda de código del notebook3 vamos a utilizar el tipo de datos de listas para\n",
    "realizar dicha operación de reducción. Para ello, crea una lista de Python con la función range queontenga 106\n",
    "elementos. Una vez creada, calcula el tiempo que tardas4\n",
    "en sumar todos los elementosde la lista de 2 formas diferentes: \n",
    "#a) Usando un bucle for similar al código ya mostrado en la celda anterior para ir sumando al resultado total elemento a elemento de la lista, \n",
    "#b) usando la funciónsum que tienen las listas. Como verás, hay una diferencia importante"
   ]
  },
  {
   "cell_type": "code",
   "execution_count": 6,
   "id": "3c6faf2a-6986-4023-be66-672c3be5d193",
   "metadata": {},
   "outputs": [
    {
     "name": "stdout",
     "output_type": "stream",
     "text": [
      "El tiempo tomado con listas y bucles es: 0.5404081344604492segundos\n",
      "El tiempo tomado con listas y funcion sum es: 0.03179335594177246segundos\n"
     ]
    }
   ],
   "source": [
    "import time\n",
    "#Usando un bucle for similar al código ya mostrado en la celda anterior para ir sumando al resultado total elemento a elemento de la lista\n",
    "value=list(range(0,1000000))\n",
    "start_time=time.time()\n",
    "resultado=0\n",
    "for i in value:\n",
    "    resultado +=i\n",
    "end_time=time.time()\n",
    "diferencia=end_time-start_time\n",
    "print(f\"El tiempo tomado con listas y bucles es: {diferencia}segundos\")\n",
    "\n",
    "#Usando funcion sum que tienen listas\n",
    "start_time=time.time()\n",
    "sum(value)\n",
    "end_time=time.time()\n",
    "diferencia=end_time-start_time\n",
    "print(f\"El tiempo tomado con listas y funcion sum es: {diferencia}segundos\")"
   ]
  },
  {
   "cell_type": "markdown",
   "id": "995d87e5-6995-4c0d-9a13-7a459e946d95",
   "metadata": {},
   "source": [
    "b) En la segunda celda de código vamos a utilizar el tipo de datos array que nos proporciona el paquete\n",
    "numpy. En primer lugar, pasa la lista creada en la celda anterior a un array de numpy. Y al igual que\n",
    "antes, calcula el tiempo que tardas en sumar todos los elementos del array de 2 formas diferentes:\n",
    "a) Usando un bucle for para ir sumando al resultado total elemento a elemento del array, y b)\n",
    "usando la función sum que tiene el paquete numpy para los arrays. Como verás, hay una diferencia\n",
    "importante, y también con respecto al manejo de estos datos usando listas.\n"
   ]
  },
  {
   "cell_type": "code",
   "execution_count": 17,
   "id": "5c74ab83-fbc0-4335-aabb-cbeb1bf0ab07",
   "metadata": {},
   "outputs": [
    {
     "name": "stdout",
     "output_type": "stream",
     "text": [
      "El tiempo con for y numpy array: 1.0051016807556152segundos\n",
      "El tiempo con sum() numpy array: 0.0018012523651123047segundos\n"
     ]
    }
   ],
   "source": [
    "import time\n",
    "import numpy as np\n",
    "value=list(range(0,1000000))\n",
    "value_numpy=np.array(value)\n",
    "#sumamos todos los elementos del array usando un bucle for\n",
    "start_time=time.time()\n",
    "resultado=0\n",
    "for i in value_numpy:\n",
    "    resultado+=i\n",
    "end_time=time.time()\n",
    "diferencia=end_time-start_time\n",
    "print(f\"El tiempo con for y numpy array: {diferencia}segundos\")\n",
    "\n",
    "#sumamos usando la funcion sum de numpy\n",
    "start_time=time.time()\n",
    "resultado=np.sum(value_numpy)\n",
    "end_time=time.time()\n",
    "diferencia=end_time-start_time\n",
    "print(f\"El tiempo con sum() numpy array: {diferencia}segundos\")"
   ]
  },
  {
   "cell_type": "markdown",
   "id": "2730caf6-41e4-4f4a-95e2-78e95287073e",
   "metadata": {},
   "source": [
    "c) Crea una nueva celda de texto debajo de la última celda de código para explicar los resultados\n",
    "obtenidos por los 3 procedimientos (código original, lists y numpy).\n",
    "\n",
    "En primer lugar destacar que la solución más intuitiva de sumar números con un for, los cuales esten presentes dentro de una lista, no es la más eficiente. \n",
    "Cuando utilizamos funciones creadas por nosotros mismos como es el caso del código original, el tiempo baja considerablemente de 0.54 a 0.26754331588745117. Todo ello indica que aunque usemos bucles es mucho más óptimo controlarlos dentro de una función. \n",
    "Por otra parte crear arrays con numpy, a priori es una buena solución, pero cuando usamos un bucle para iterar los elementos del array los tiempos superan a los del bucle for con listas, mostrando que usar for con numpy no es muy adecuado a niveles de optimización.\n",
    "\n",
    "Finalmente, el ganador indiscutible que mejora el tiempo tomado respecto al código original unas 150 veces. Por tanto, es muy conveniente el uso de funciones contenidas en la libreria numpy para realizar operaciones con array y optimizar tiempos de cómputo."
   ]
  }
 ],
 "metadata": {
  "kernelspec": {
   "display_name": "Python 3 (ipykernel)",
   "language": "python",
   "name": "python3"
  },
  "language_info": {
   "codemirror_mode": {
    "name": "ipython",
    "version": 3
   },
   "file_extension": ".py",
   "mimetype": "text/x-python",
   "name": "python",
   "nbconvert_exporter": "python",
   "pygments_lexer": "ipython3",
   "version": "3.10.9"
  }
 },
 "nbformat": 4,
 "nbformat_minor": 5
}
